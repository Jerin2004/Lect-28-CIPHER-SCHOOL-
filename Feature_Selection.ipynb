{
  "cells": [
    {
      "cell_type": "markdown",
      "metadata": {
        "id": "view-in-github",
        "colab_type": "text"
      },
      "source": [
        "<a href=\"https://colab.research.google.com/github/Jerin2004/Lect-28-CIPHER-SCHOOL-/blob/main/Feature_Selection.ipynb\" target=\"_parent\"><img src=\"https://colab.research.google.com/assets/colab-badge.svg\" alt=\"Open In Colab\"/></a>"
      ]
    },
    {
      "cell_type": "markdown",
      "id": "72463c6f",
      "metadata": {
        "id": "72463c6f"
      },
      "source": [
        "# 1. Variance Thresholding"
      ]
    },
    {
      "cell_type": "markdown",
      "id": "43362cc8",
      "metadata": {
        "id": "43362cc8"
      },
      "source": [
        "### Definition\n",
        "Variance Thresholding is a simple baseline approach to feature selection. It removes all features whose variance doesn’t meet some threshold. By default, it removes all zero-variance features, i.e., features that have the same value in all samples."
      ]
    },
    {
      "cell_type": "markdown",
      "id": "2ce57068",
      "metadata": {
        "id": "2ce57068"
      },
      "source": [
        "### Example Table Data\n",
        "\n",
        "| Feature1 | Feature2 | Feature3 | Constant |\n",
        "|----------|----------|----------|----------|\n",
        "| 1        | 2        | 3        | 1        |\n",
        "| 1        | 3        | 4        | 1        |\n",
        "| 1        | 4        | 5        | 1        |\n",
        "| 1        | 5        | 6        | 1        |\n",
        "| 1        | 6        | 7        | 1        |\n",
        "\n",
        "In this table, 'Feature1' and 'Constant' have low or zero variance."
      ]
    },
    {
      "cell_type": "code",
      "execution_count": null,
      "id": "bf3a8838",
      "metadata": {
        "id": "bf3a8838"
      },
      "outputs": [],
      "source": [
        "import pandas as pd\n",
        "from sklearn.feature_selection import VarianceThreshold\n",
        "\n",
        "# Sample data\n",
        "data = {\n",
        "    'Feature1': [1, 1, 1, 1, 1],  # Low variance\n",
        "    'Feature2': [2, 3, 4, 5, 6],\n",
        "    'Feature3': [3, 4, 5, 6, 7],\n",
        "    'Constant': [1, 1, 1, 1, 1]  # Zero variance\n",
        "}\n",
        "df = pd.DataFrame(data)\n",
        "\n",
        "# Variance Thresholding\n",
        "selector = VarianceThreshold(threshold=0.1)\n",
        "df_variance_filtered = pd.DataFrame(selector.fit_transform(df), columns=df.columns[selector.get_support()])\n",
        "print(\"After Variance Thresholding:\\n\", df_variance_filtered)"
      ]
    },
    {
      "cell_type": "markdown",
      "id": "35fc128e",
      "metadata": {
        "id": "35fc128e"
      },
      "source": [
        "# 2. Correlation Matrix Filtering"
      ]
    },
    {
      "cell_type": "markdown",
      "id": "7dbb20db",
      "metadata": {
        "id": "7dbb20db"
      },
      "source": [
        "### Definition\n",
        "Correlation Matrix Filtering involves computing the correlation matrix for the features in the dataset and removing one of each pair of features with a high correlation. This helps to reduce redundancy in the data."
      ]
    },
    {
      "cell_type": "markdown",
      "id": "babd84b3",
      "metadata": {
        "id": "babd84b3"
      },
      "source": [
        "### Example Table Data\n",
        "\n",
        "| Feature1 | Feature2 | Feature3 | Feature4 |\n",
        "|----------|----------|----------|----------|\n",
        "| 1        | 2        | 2        | 5        |\n",
        "| 2        | 4        | 4        | 6        |\n",
        "| 3        | 6        | 6        | 7        |\n",
        "| 4        | 8        | 8        | 8        |\n",
        "| 5        | 10       | 10       | 9        |\n",
        "\n",
        "In this table, 'Feature2' and 'Feature3' are highly correlated with 'Feature1'."
      ]
    },
    {
      "cell_type": "code",
      "execution_count": null,
      "id": "e4f593ba",
      "metadata": {
        "id": "e4f593ba"
      },
      "outputs": [],
      "source": [
        "import pandas as pd\n",
        "import numpy as np\n",
        "import seaborn as sns\n",
        "import matplotlib.pyplot as plt\n",
        "\n",
        "# Sample data\n",
        "data = {\n",
        "    'Feature1': [1, 2, 3, 4, 5],\n",
        "    'Feature2': [2, 4, 6, 8, 10],  # Highly correlated with Feature1\n",
        "    'Feature3': [2, 4, 6, 8, 10],  # Highly correlated with Feature2\n",
        "    'Feature4': [5, 6, 7, 8, 9]\n",
        "}\n",
        "df = pd.DataFrame(data)\n",
        "\n",
        "# Correlation matrix\n",
        "corr_matrix = df.corr().abs()\n",
        "\n",
        "# Plot correlation matrix\n",
        "plt.figure(figsize=(10, 8))\n",
        "sns.heatmap(corr_matrix, annot=True, cmap='coolwarm', fmt='.2f')\n",
        "plt.show()\n",
        "\n",
        "# Select upper triangle of correlation matrix\n",
        "upper = corr_matrix.where(np.triu(np.ones(corr_matrix.shape), k=1).astype(bool))\n",
        "\n",
        "# Find features with correlation greater than 0.9\n",
        "to_drop = [column for column in upper.columns if any(upper[column] > 0.9)]\n",
        "\n",
        "# Drop features\n",
        "df_corr_filtered = df.drop(to_drop, axis=1)\n",
        "print(\"After Correlation Matrix Filtering:\\n\", df_corr_filtered)"
      ]
    },
    {
      "cell_type": "markdown",
      "id": "a6ebfdc7",
      "metadata": {
        "id": "a6ebfdc7"
      },
      "source": [
        "# 3. Domain Knowledge"
      ]
    },
    {
      "cell_type": "markdown",
      "id": "27444935",
      "metadata": {
        "id": "27444935"
      },
      "source": [
        "### Definition\n",
        "Domain knowledge involves using expertise from the specific field or industry to manually select the most relevant features. This method leverages human understanding of which features are likely to be important."
      ]
    },
    {
      "cell_type": "markdown",
      "id": "2e991370",
      "metadata": {
        "id": "2e991370"
      },
      "source": [
        "### Example Table Data\n",
        "\n",
        "| Age | Salary | Height | Weight |\n",
        "|-----|--------|--------|--------|\n",
        "| 25  | 50000  | 5.5    | 150    |\n",
        "| 30  | 60000  | 6.0    | 160    |\n",
        "| 35  | 70000  | 5.8    | 170    |\n",
        "| 40  | 80000  | 5.9    | 180    |\n",
        "| 45  | 90000  | 6.1    | 190    |\n",
        "\n",
        "In this table, 'Age' and 'Salary' might be selected based on domain knowledge indicating their importance."
      ]
    },
    {
      "cell_type": "code",
      "execution_count": null,
      "id": "bf3a84ad",
      "metadata": {
        "id": "bf3a84ad"
      },
      "outputs": [],
      "source": [
        "import pandas as pd\n",
        "\n",
        "# Sample data\n",
        "data = {\n",
        "    'Age': [25, 30, 35, 40, 45],\n",
        "    'Salary': [50000, 60000, 70000, 80000, 90000],\n",
        "    'Height': [5.5, 6.0, 5.8, 5.9, 6.1],\n",
        "    'Weight': [150, 160, 170, 180, 190]\n",
        "}\n",
        "df = pd.DataFrame(data)\n",
        "\n",
        "# Based on domain knowledge, we know Age and Salary are important\n",
        "selected_features_domain = df[['Age', 'Salary']]\n",
        "print(\"Selected Features based on Domain Knowledge:\\n\", selected_features_domain)"
      ]
    },
    {
      "cell_type": "markdown",
      "source": [
        "### Thank you"
      ],
      "metadata": {
        "id": "m6QeP0l7ir8g"
      },
      "id": "m6QeP0l7ir8g"
    }
  ],
  "metadata": {
    "colab": {
      "provenance": [],
      "include_colab_link": true
    }
  },
  "nbformat": 4,
  "nbformat_minor": 5
}